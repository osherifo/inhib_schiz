{
 "cells": [
  {
   "cell_type": "code",
   "execution_count": 4,
   "metadata": {},
   "outputs": [],
   "source": [
    "from netpyne import specs, sim\n",
    "import pandas as pd\n"
   ]
  },
  {
   "cell_type": "markdown",
   "metadata": {},
   "source": [
    "# Network Parameters\n"
   ]
  },
  {
   "cell_type": "markdown",
   "metadata": {},
   "source": [
    "### Define cells"
   ]
  },
  {
   "cell_type": "code",
   "execution_count": 27,
   "metadata": {},
   "outputs": [
    {
     "ename": "ImportError",
     "evalue": "Missing optional dependency 'xlrd'. Install xlrd >= 1.0.0 for Excel support Use pip or conda to install xlrd.",
     "output_type": "error",
     "traceback": [
      "\u001b[0;31m---------------------------------------------------------------------------\u001b[0m",
      "\u001b[0;31mModuleNotFoundError\u001b[0m                       Traceback (most recent call last)",
      "File \u001b[0;32m~/neurolib/neuroenv/lib/python3.8/site-packages/pandas/compat/_optional.py:138\u001b[0m, in \u001b[0;36mimport_optional_dependency\u001b[0;34m(name, extra, errors, min_version)\u001b[0m\n\u001b[1;32m    137\u001b[0m \u001b[39mtry\u001b[39;00m:\n\u001b[0;32m--> 138\u001b[0m     module \u001b[39m=\u001b[39m importlib\u001b[39m.\u001b[39;49mimport_module(name)\n\u001b[1;32m    139\u001b[0m \u001b[39mexcept\u001b[39;00m \u001b[39mImportError\u001b[39;00m:\n",
      "File \u001b[0;32m/usr/local/opt/python@3.8/Frameworks/Python.framework/Versions/3.8/lib/python3.8/importlib/__init__.py:127\u001b[0m, in \u001b[0;36mimport_module\u001b[0;34m(name, package)\u001b[0m\n\u001b[1;32m    126\u001b[0m         level \u001b[39m+\u001b[39m\u001b[39m=\u001b[39m \u001b[39m1\u001b[39m\n\u001b[0;32m--> 127\u001b[0m \u001b[39mreturn\u001b[39;00m _bootstrap\u001b[39m.\u001b[39;49m_gcd_import(name[level:], package, level)\n",
      "File \u001b[0;32m<frozen importlib._bootstrap>:1014\u001b[0m, in \u001b[0;36m_gcd_import\u001b[0;34m(name, package, level)\u001b[0m\n",
      "File \u001b[0;32m<frozen importlib._bootstrap>:991\u001b[0m, in \u001b[0;36m_find_and_load\u001b[0;34m(name, import_)\u001b[0m\n",
      "File \u001b[0;32m<frozen importlib._bootstrap>:973\u001b[0m, in \u001b[0;36m_find_and_load_unlocked\u001b[0;34m(name, import_)\u001b[0m\n",
      "\u001b[0;31mModuleNotFoundError\u001b[0m: No module named 'xlrd'",
      "\nDuring handling of the above exception, another exception occurred:\n",
      "\u001b[0;31mImportError\u001b[0m                               Traceback (most recent call last)",
      "\u001b[1;32m/Users/omarsherif/projects/inhib_schiz/network.ipynb Cell 4\u001b[0m in \u001b[0;36m<cell line: 1>\u001b[0;34m()\u001b[0m\n\u001b[0;32m----> <a href='vscode-notebook-cell:/Users/omarsherif/projects/inhib_schiz/network.ipynb#W2sZmlsZQ%3D%3D?line=0'>1</a>\u001b[0m circuit_params \u001b[39m=\u001b[39m pd\u001b[39m.\u001b[39;49mread_excel(\u001b[39m'\u001b[39;49m\u001b[39mCircuit_param.xls\u001b[39;49m\u001b[39m'\u001b[39;49m, sheet_name \u001b[39m=\u001b[39;49m \u001b[39mNone\u001b[39;49;00m, index_col \u001b[39m=\u001b[39;49m \u001b[39m0\u001b[39;49m)\n\u001b[1;32m      <a href='vscode-notebook-cell:/Users/omarsherif/projects/inhib_schiz/network.ipynb#W2sZmlsZQ%3D%3D?line=3'>4</a>\u001b[0m netParams \u001b[39m=\u001b[39m specs\u001b[39m.\u001b[39mNetParams()\n\u001b[1;32m      <a href='vscode-notebook-cell:/Users/omarsherif/projects/inhib_schiz/network.ipynb#W2sZmlsZQ%3D%3D?line=5'>6</a>\u001b[0m \u001b[39m# 1 Define cells\u001b[39;00m\n",
      "File \u001b[0;32m~/neurolib/neuroenv/lib/python3.8/site-packages/pandas/util/_decorators.py:311\u001b[0m, in \u001b[0;36mdeprecate_nonkeyword_arguments.<locals>.decorate.<locals>.wrapper\u001b[0;34m(*args, **kwargs)\u001b[0m\n\u001b[1;32m    305\u001b[0m \u001b[39mif\u001b[39;00m \u001b[39mlen\u001b[39m(args) \u001b[39m>\u001b[39m num_allow_args:\n\u001b[1;32m    306\u001b[0m     warnings\u001b[39m.\u001b[39mwarn(\n\u001b[1;32m    307\u001b[0m         msg\u001b[39m.\u001b[39mformat(arguments\u001b[39m=\u001b[39marguments),\n\u001b[1;32m    308\u001b[0m         \u001b[39mFutureWarning\u001b[39;00m,\n\u001b[1;32m    309\u001b[0m         stacklevel\u001b[39m=\u001b[39mstacklevel,\n\u001b[1;32m    310\u001b[0m     )\n\u001b[0;32m--> 311\u001b[0m \u001b[39mreturn\u001b[39;00m func(\u001b[39m*\u001b[39;49margs, \u001b[39m*\u001b[39;49m\u001b[39m*\u001b[39;49mkwargs)\n",
      "File \u001b[0;32m~/neurolib/neuroenv/lib/python3.8/site-packages/pandas/io/excel/_base.py:457\u001b[0m, in \u001b[0;36mread_excel\u001b[0;34m(io, sheet_name, header, names, index_col, usecols, squeeze, dtype, engine, converters, true_values, false_values, skiprows, nrows, na_values, keep_default_na, na_filter, verbose, parse_dates, date_parser, thousands, decimal, comment, skipfooter, convert_float, mangle_dupe_cols, storage_options)\u001b[0m\n\u001b[1;32m    455\u001b[0m \u001b[39mif\u001b[39;00m \u001b[39mnot\u001b[39;00m \u001b[39misinstance\u001b[39m(io, ExcelFile):\n\u001b[1;32m    456\u001b[0m     should_close \u001b[39m=\u001b[39m \u001b[39mTrue\u001b[39;00m\n\u001b[0;32m--> 457\u001b[0m     io \u001b[39m=\u001b[39m ExcelFile(io, storage_options\u001b[39m=\u001b[39;49mstorage_options, engine\u001b[39m=\u001b[39;49mengine)\n\u001b[1;32m    458\u001b[0m \u001b[39melif\u001b[39;00m engine \u001b[39mand\u001b[39;00m engine \u001b[39m!=\u001b[39m io\u001b[39m.\u001b[39mengine:\n\u001b[1;32m    459\u001b[0m     \u001b[39mraise\u001b[39;00m \u001b[39mValueError\u001b[39;00m(\n\u001b[1;32m    460\u001b[0m         \u001b[39m\"\u001b[39m\u001b[39mEngine should not be specified when passing \u001b[39m\u001b[39m\"\u001b[39m\n\u001b[1;32m    461\u001b[0m         \u001b[39m\"\u001b[39m\u001b[39man ExcelFile - ExcelFile already has the engine set\u001b[39m\u001b[39m\"\u001b[39m\n\u001b[1;32m    462\u001b[0m     )\n",
      "File \u001b[0;32m~/neurolib/neuroenv/lib/python3.8/site-packages/pandas/io/excel/_base.py:1419\u001b[0m, in \u001b[0;36mExcelFile.__init__\u001b[0;34m(self, path_or_buffer, engine, storage_options)\u001b[0m\n\u001b[1;32m   1416\u001b[0m \u001b[39mself\u001b[39m\u001b[39m.\u001b[39mengine \u001b[39m=\u001b[39m engine\n\u001b[1;32m   1417\u001b[0m \u001b[39mself\u001b[39m\u001b[39m.\u001b[39mstorage_options \u001b[39m=\u001b[39m storage_options\n\u001b[0;32m-> 1419\u001b[0m \u001b[39mself\u001b[39m\u001b[39m.\u001b[39m_reader \u001b[39m=\u001b[39m \u001b[39mself\u001b[39;49m\u001b[39m.\u001b[39;49m_engines[engine](\u001b[39mself\u001b[39;49m\u001b[39m.\u001b[39;49m_io, storage_options\u001b[39m=\u001b[39;49mstorage_options)\n",
      "File \u001b[0;32m~/neurolib/neuroenv/lib/python3.8/site-packages/pandas/io/excel/_xlrd.py:24\u001b[0m, in \u001b[0;36mXlrdReader.__init__\u001b[0;34m(self, filepath_or_buffer, storage_options)\u001b[0m\n\u001b[1;32m     13\u001b[0m \u001b[39m\"\"\"\u001b[39;00m\n\u001b[1;32m     14\u001b[0m \u001b[39mReader using xlrd engine.\u001b[39;00m\n\u001b[1;32m     15\u001b[0m \n\u001b[0;32m   (...)\u001b[0m\n\u001b[1;32m     21\u001b[0m \u001b[39m    passed to fsspec for appropriate URLs (see ``_get_filepath_or_buffer``)\u001b[39;00m\n\u001b[1;32m     22\u001b[0m \u001b[39m\"\"\"\u001b[39;00m\n\u001b[1;32m     23\u001b[0m err_msg \u001b[39m=\u001b[39m \u001b[39m\"\u001b[39m\u001b[39mInstall xlrd >= 1.0.0 for Excel support\u001b[39m\u001b[39m\"\u001b[39m\n\u001b[0;32m---> 24\u001b[0m import_optional_dependency(\u001b[39m\"\u001b[39;49m\u001b[39mxlrd\u001b[39;49m\u001b[39m\"\u001b[39;49m, extra\u001b[39m=\u001b[39;49merr_msg)\n\u001b[1;32m     25\u001b[0m \u001b[39msuper\u001b[39m()\u001b[39m.\u001b[39m\u001b[39m__init__\u001b[39m(filepath_or_buffer, storage_options\u001b[39m=\u001b[39mstorage_options)\n",
      "File \u001b[0;32m~/neurolib/neuroenv/lib/python3.8/site-packages/pandas/compat/_optional.py:141\u001b[0m, in \u001b[0;36mimport_optional_dependency\u001b[0;34m(name, extra, errors, min_version)\u001b[0m\n\u001b[1;32m    139\u001b[0m \u001b[39mexcept\u001b[39;00m \u001b[39mImportError\u001b[39;00m:\n\u001b[1;32m    140\u001b[0m     \u001b[39mif\u001b[39;00m errors \u001b[39m==\u001b[39m \u001b[39m\"\u001b[39m\u001b[39mraise\u001b[39m\u001b[39m\"\u001b[39m:\n\u001b[0;32m--> 141\u001b[0m         \u001b[39mraise\u001b[39;00m \u001b[39mImportError\u001b[39;00m(msg)\n\u001b[1;32m    142\u001b[0m     \u001b[39melse\u001b[39;00m:\n\u001b[1;32m    143\u001b[0m         \u001b[39mreturn\u001b[39;00m \u001b[39mNone\u001b[39;00m\n",
      "\u001b[0;31mImportError\u001b[0m: Missing optional dependency 'xlrd'. Install xlrd >= 1.0.0 for Excel support Use pip or conda to install xlrd."
     ]
    }
   ],
   "source": [
    "circuit_params = pd.read_excel('Circuit_param.xls', sheet_name = None, index_col = 0)\n",
    "\n",
    "\n",
    "netParams = specs.NetParams()\n",
    "\n",
    "# 1 Define cells\n",
    "\n",
    "pyr_cell = {'sec':{}}\n",
    "sst_cell = {'sec':{}}\n",
    "pv_cell = {'sec':{}}\n",
    "vip_cell = {'sec':{}}\n",
    "\n",
    "# TODO: add cell properties\n",
    "\n",
    "\n",
    "\n",
    "netParams.cellParams['PYR'] = pyr_cell\n",
    "netParams.cellParams['SST'] = sst_cell\n",
    "netParams.cellParams['PV'] = pv_cell\n",
    "netParams.cellParams['VIP'] = vip_cell"
   ]
  },
  {
   "cell_type": "markdown",
   "metadata": {},
   "source": [
    "### Define populations\n"
   ]
  },
  {
   "cell_type": "code",
   "execution_count": 21,
   "metadata": {},
   "outputs": [],
   "source": [
    "\n",
    "cell_count=1000\n",
    "pyr_cell_count=1000*0.8\n",
    "sst_cell_count=1000*0.05\n",
    "pv_cell_count=1000*0.07\n",
    "vip_cell_count=1000*0.08\n",
    "\n",
    "\n",
    "netParams.popParams['PYR'] = {'cellType': 'PYR', 'numCells': pyr_cell_count}\n",
    "netParams.popParams['SST'] = {'cellType': 'SST', 'numCells': sst_cell_count}\n",
    "netParams.popParams['PV'] = {'cellType': 'PV', 'numCells': pv_cell_count}\n",
    "netParams.popParams['VIP'] = {'cellType': 'VIP', 'numCells': vip_cell_count}\n"
   ]
  },
  {
   "cell_type": "markdown",
   "metadata": {},
   "source": [
    "### Define synaptic mechanisms"
   ]
  },
  {
   "cell_type": "code",
   "execution_count": 22,
   "metadata": {},
   "outputs": [],
   "source": [
    "# TODO: all"
   ]
  },
  {
   "cell_type": "markdown",
   "metadata": {},
   "source": [
    "### Define population connectivity"
   ]
  },
  {
   "cell_type": "code",
   "execution_count": 23,
   "metadata": {},
   "outputs": [],
   "source": [
    "## Cell connectivity rules\n",
    "\n",
    "# Pyr ->\n",
    "\n",
    "netParams.connParams['PYR->PV'] = { #   label\n",
    "        'preConds': {'pop': 'PYR'},   # conditions of presyn cells\n",
    "        'postConds': {'pop': 'PV'},  # conditions of postsyn cells\n",
    "        'probability': 0.09,         #  from Circuit_params.xls\n",
    "        # 'weight': 0.01,             # synaptic weight\n",
    "        # 'delay': 5,                 # transmission delay (ms)\n",
    "        # 'synMech': 'exc'\n",
    "        }           # synaptic mechanism\n",
    "netParams.connParams['PYR->SST'] = { #  label\n",
    "        'preConds': {'pop': 'PYR'},   # conditions of presyn cells\n",
    "        'postConds': {'pop': 'SST'},  # conditions of postsyn cells\n",
    "        'probability': 0.19,         # probability of connection\n",
    "        # 'weight': 0.01,             # synaptic weight\n",
    "        # 'delay': 5,                 # transmission delay (ms)\n",
    "        # 'synMech': 'exc'\n",
    "        }           # synaptic mechanism\n",
    "netParams.connParams['PYR->VIP'] = { #   label\n",
    "        'preConds': {'pop': 'PYR'},   # conditions of presyn cells\n",
    "        'postConds': {'pop': 'VIP'},  # conditions of postsyn cells\n",
    "        'probability': 0.09,         # probability of connection\n",
    "        # 'weight': 0.01,             # synaptic weight\n",
    "        # 'delay': 5,                 # transmission delay (ms)\n",
    "        # 'synMech': 'exc'\n",
    "        }           # synaptic mechanism\n",
    "\n",
    "netParams.connParams['PYR->PYR'] = { #   label\n",
    "        'preConds': {'pop': 'PYR'},   # conditions of presyn cells\n",
    "        'postConds': {'pop': 'PYR'},  # conditions of postsyn cells\n",
    "        'probability': 0.15,         # probability of connection\n",
    "        # 'weight': 0.01,             # synaptic weight\n",
    "        # 'delay': 5,                 # transmission delay (ms)\n",
    "        # 'synMech': 'exc'\n",
    "        }           # synaptic mechanism\n",
    "\n",
    "\n",
    "# Vip ->\n",
    "\n",
    "netParams.connParams['VIP->PV'] = { #   label\n",
    "        'preConds': {'pop': 'VIP'},   # conditions of presyn cells\n",
    "        'postConds': {'pop': 'PV'},  # conditions of postsyn cells\n",
    "        'probability': 0.1,         # probability of connection\n",
    "        # 'weight': 0.01,             # synaptic weight\n",
    "        # 'delay': 5,                 # transmission delay (ms)\n",
    "        # 'synMech': 'exc'\n",
    "        }           # synaptic mechanism\n",
    "\n",
    "netParams.connParams['VIP->SST'] = { #   label\n",
    "        'preConds': {'pop': 'VIP'},   # conditions of presyn cells\n",
    "        'postConds': {'pop': 'SST'},  # conditions of postsyn cells\n",
    "         'probability': 0.35,         # probability of connection\n",
    "        # 'weight': 0.01,             # synaptic weight\n",
    "        # 'delay': 5,                 # transmission delay (ms)\n",
    "        # 'synMech': 'exc'\n",
    "        }           # synaptic mechanism\n",
    "\n",
    "\n",
    "netParams.connParams['VIP->VIP'] = { #   label\n",
    "        'preConds': {'pop': 'VIP'},   # conditions of presyn cells\n",
    "        'postConds': {'pop': 'VIP'},  # conditions of postsyn cells\n",
    "         'probability': 0.05,         # probability of connection\n",
    "        # 'weight': 0.01,             # synaptic weight\n",
    "        # 'delay': 5,                 # transmission delay (ms)\n",
    "        # 'synMech': 'exc'\n",
    "        }           # synaptic mechanism\n",
    "\n",
    "\n",
    "# Pv ->\n",
    "\n",
    "netParams.connParams['PV->PYR'] = { #   label\n",
    "        'preConds': {'pop': 'PV'},   # conditions of presyn cells\n",
    "        'postConds': {'pop': 'PYR'},  # conditions of postsyn cells\n",
    "        'probability': 0.094,         # probability of connection\n",
    "        # 'weight': 0.01,             # synaptic weight\n",
    "        # 'delay': 5,                 # transmission delay (ms)\n",
    "        # 'synMech': 'exc'\n",
    "        }           # synaptic mechanism\n",
    "\n",
    "\n",
    "netParams.connParams['PV->VIP'] = { #   label\n",
    "        'preConds': {'pop': 'PV'},   # conditions of presyn cells\n",
    "        'postConds': {'pop': 'VIP'},  # conditions of postsyn cells\n",
    "        'probability': 0.03,         # probability of connection\n",
    "        # 'weight': 0.01,             # synaptic weight\n",
    "        # 'delay': 5,                 # transmission delay (ms)\n",
    "        # 'synMech': 'exc'\n",
    "        }           # synaptic mechanism\n",
    "\n",
    "netParams.connParams['PV->SST'] = { #   label\n",
    "        'preConds': {'pop': 'PV'},   # conditions of presyn cells\n",
    "        'postConds': {'pop': 'SST'},  # conditions of postsyn cells\n",
    "        'probability': 0.05,         # probability of connection\n",
    "        # 'weight': 0.01,             # synaptic weight\n",
    "        # 'delay': 5,                 # transmission delay (ms)\n",
    "        # 'synMech': 'exc'\n",
    "        }           # synaptic mechanism\n",
    "\n",
    "\n",
    "netParams.connParams['PV->PV'] = { #   label\n",
    "        'preConds': {'pop': 'PV'},   # conditions of presyn cells\n",
    "        'postConds': {'pop': 'PV'},  # conditions of postsyn cells\n",
    "        'probability': 0.37,         # probability of connection\n",
    "        # 'weight': 0.01,             # synaptic weight\n",
    "        # 'delay': 5,                 # transmission delay (ms)\n",
    "        # 'synMech': 'exc'\n",
    "        }           # synaptic mechanism\n",
    "\n",
    "# SST ->\n",
    "\n",
    "\n",
    "netParams.connParams['SST->PYR'] = { #   label\n",
    "        'preConds': {'pop': 'SST'},   # conditions of presyn cells\n",
    "        'postConds': {'pop': 'PYR'},  # conditions of postsyn cells\n",
    "        'probability': 0.19,         # probability of connection\n",
    "        # 'weight': 0.01,             # synaptic weight\n",
    "        # 'delay': 5,                 # transmission delay (ms)\n",
    "        # 'synMech': 'exc'\n",
    "        }           # synaptic mechanism\n",
    "\n",
    "\n",
    "netParams.connParams['SST->PV'] = { #   label\n",
    "        'preConds': {'pop': 'SST'},   # conditions of presyn cells\n",
    "        'postConds': {'pop': 'PV'},  # conditions of postsyn cells\n",
    "        'probability': 0.2,         # probability of connection\n",
    "        # 'weight': 0.01,             # synaptic weight\n",
    "        # 'delay': 5,                 # transmission delay (ms)\n",
    "        # 'synMech': 'exc'\n",
    "        }           # synaptic mechanism\n",
    "\n",
    "netParams.connParams['SST->VIP'] = { #   label\n",
    "        'preConds': {'pop': 'SST'},   # conditions of presyn cells\n",
    "        'postConds': {'pop': 'VIP'},  # conditions of postsyn cells\n",
    "        'probability': 0.06,         # probability of connection\n",
    "        # 'weight': 0.01,             # synaptic weight\n",
    "        # 'delay': 5,                 # transmission delay (ms)\n",
    "        # 'synMech': 'exc'\n",
    "        }           # synaptic mechanism\n",
    "\n",
    "netParams.connParams['SST->SST'] = { #   label\n",
    "        'preConds': {'pop': 'SST'},   # conditions of presyn cells\n",
    "        'postConds': {'pop': 'SST'},  # conditions of postsyn cells\n",
    "        'probability': 0.04,         # probability of connection\n",
    "        # 'weight': 0.01,             # synaptic weight\n",
    "        # 'delay': 5,                 # transmission delay (ms)\n",
    "        # 'synMech': 'exc'\n",
    "        }           # synaptic mechanism\n",
    "\n",
    "\n",
    "\n",
    "\n",
    "\n"
   ]
  },
  {
   "cell_type": "markdown",
   "metadata": {},
   "source": [
    "# Simulation Configuration"
   ]
  },
  {
   "cell_type": "code",
   "execution_count": 24,
   "metadata": {},
   "outputs": [],
   "source": [
    "simConfig = specs.SimConfig()\n",
    "\n",
    "\n"
   ]
  }
 ],
 "metadata": {
  "kernelspec": {
   "display_name": "Python 3.7.15 ('mypython3')",
   "language": "python",
   "name": "python3"
  },
  "language_info": {
   "codemirror_mode": {
    "name": "ipython",
    "version": 3
   },
   "file_extension": ".py",
   "mimetype": "text/x-python",
   "name": "python",
   "nbconvert_exporter": "python",
   "pygments_lexer": "ipython3",
   "version": "3.7.15"
  },
  "orig_nbformat": 4,
  "vscode": {
   "interpreter": {
    "hash": "ee3fa02b41ba35f7b8699c301981f73690209c8da0501134bab20dbae769318d"
   }
  }
 },
 "nbformat": 4,
 "nbformat_minor": 2
}
