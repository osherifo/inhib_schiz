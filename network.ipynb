{
 "cells": [
  {
   "cell_type": "code",
   "execution_count": 19,
   "metadata": {},
   "outputs": [],
   "source": [
    "from netpyne import specs, sim"
   ]
  },
  {
   "cell_type": "markdown",
   "metadata": {},
   "source": [
    "# Network Parameters\n"
   ]
  },
  {
   "cell_type": "markdown",
   "metadata": {},
   "source": [
    "### Define cells"
   ]
  },
  {
   "cell_type": "code",
   "execution_count": 20,
   "metadata": {},
   "outputs": [],
   "source": [
    "netParams = specs.NetParams()\n",
    "\n",
    "# 1 Define cells\n",
    "\n",
    "pyr_cell = {'sec':{}}\n",
    "sst_cell = {'sec':{}}\n",
    "pv_cell = {'sec':{}}\n",
    "vip_cell = {'sec':{}}\n",
    "\n",
    "# TODO: add cell properties\n",
    "\n",
    "\n",
    "\n",
    "netParams.cellParams['PYR'] = pyr_cell\n",
    "netParams.cellParams['SST'] = sst_cell\n",
    "netParams.cellParams['PV'] = pv_cell\n",
    "netParams.cellParams['VIP'] = vip_cell"
   ]
  },
  {
   "cell_type": "markdown",
   "metadata": {},
   "source": [
    "### Define populations\n"
   ]
  },
  {
   "cell_type": "code",
   "execution_count": 21,
   "metadata": {},
   "outputs": [],
   "source": [
    "\n",
    "cell_count=1000\n",
    "pyr_cell_count=1000*0.8\n",
    "sst_cell_count=1000*0.05\n",
    "pv_cell_count=1000*0.07\n",
    "vip_cell_count=1000*0.08\n",
    "\n",
    "\n",
    "netParams.popParams['PYR'] = {'cellType': 'PYR', 'numCells': pyr_cell_count}\n",
    "netParams.popParams['SST'] = {'cellType': 'SST', 'numCells': sst_cell_count}\n",
    "netParams.popParams['PV'] = {'cellType': 'PV', 'numCells': pv_cell_count}\n",
    "netParams.popParams['VIP'] = {'cellType': 'VIP', 'numCells': vip_cell_count}\n"
   ]
  },
  {
   "cell_type": "markdown",
   "metadata": {},
   "source": [
    "### Define synaptic mechanisms"
   ]
  },
  {
   "cell_type": "code",
   "execution_count": 22,
   "metadata": {},
   "outputs": [],
   "source": [
    "# TODO: all"
   ]
  },
  {
   "cell_type": "markdown",
   "metadata": {},
   "source": [
    "### Define population connectivity"
   ]
  },
  {
   "cell_type": "code",
   "execution_count": 23,
   "metadata": {},
   "outputs": [],
   "source": [
    "## Cell connectivity rules\n",
    "\n",
    "# Pyr ->\n",
    "\n",
    "netParams.connParams['PYR->PV'] = { #   label\n",
    "        'preConds': {'pop': 'PYR'},   # conditions of presyn cells\n",
    "        'postConds': {'pop': 'PV'},  # conditions of postsyn cells\n",
    "        'probability': 0.09,         #  from Circuit_params.xls\n",
    "        # 'weight': 0.01,             # synaptic weight\n",
    "        # 'delay': 5,                 # transmission delay (ms)\n",
    "        # 'synMech': 'exc'\n",
    "        }           # synaptic mechanism\n",
    "netParams.connParams['PYR->SST'] = { #  label\n",
    "        'preConds': {'pop': 'PYR'},   # conditions of presyn cells\n",
    "        'postConds': {'pop': 'SST'},  # conditions of postsyn cells\n",
    "        'probability': 0.19,         # probability of connection\n",
    "        # 'weight': 0.01,             # synaptic weight\n",
    "        # 'delay': 5,                 # transmission delay (ms)\n",
    "        # 'synMech': 'exc'\n",
    "        }           # synaptic mechanism\n",
    "netParams.connParams['PYR->VIP'] = { #   label\n",
    "        'preConds': {'pop': 'PYR'},   # conditions of presyn cells\n",
    "        'postConds': {'pop': 'VIP'},  # conditions of postsyn cells\n",
    "        'probability': 0.09,         # probability of connection\n",
    "        # 'weight': 0.01,             # synaptic weight\n",
    "        # 'delay': 5,                 # transmission delay (ms)\n",
    "        # 'synMech': 'exc'\n",
    "        }           # synaptic mechanism\n",
    "\n",
    "netParams.connParams['PYR->PYR'] = { #   label\n",
    "        'preConds': {'pop': 'PYR'},   # conditions of presyn cells\n",
    "        'postConds': {'pop': 'PYR'},  # conditions of postsyn cells\n",
    "        'probability': 0.15,         # probability of connection\n",
    "        # 'weight': 0.01,             # synaptic weight\n",
    "        # 'delay': 5,                 # transmission delay (ms)\n",
    "        # 'synMech': 'exc'\n",
    "        }           # synaptic mechanism\n",
    "\n",
    "\n",
    "# Vip ->\n",
    "\n",
    "netParams.connParams['VIP->PV'] = { #   label\n",
    "        'preConds': {'pop': 'VIP'},   # conditions of presyn cells\n",
    "        'postConds': {'pop': 'PV'},  # conditions of postsyn cells\n",
    "        'probability': 0.1,         # probability of connection\n",
    "        # 'weight': 0.01,             # synaptic weight\n",
    "        # 'delay': 5,                 # transmission delay (ms)\n",
    "        # 'synMech': 'exc'\n",
    "        }           # synaptic mechanism\n",
    "\n",
    "netParams.connParams['VIP->SST'] = { #   label\n",
    "        'preConds': {'pop': 'VIP'},   # conditions of presyn cells\n",
    "        'postConds': {'pop': 'SST'},  # conditions of postsyn cells\n",
    "         'probability': 0.35,         # probability of connection\n",
    "        # 'weight': 0.01,             # synaptic weight\n",
    "        # 'delay': 5,                 # transmission delay (ms)\n",
    "        # 'synMech': 'exc'\n",
    "        }           # synaptic mechanism\n",
    "\n",
    "\n",
    "netParams.connParams['VIP->VIP'] = { #   label\n",
    "        'preConds': {'pop': 'VIP'},   # conditions of presyn cells\n",
    "        'postConds': {'pop': 'VIP'},  # conditions of postsyn cells\n",
    "         'probability': 0.05,         # probability of connection\n",
    "        # 'weight': 0.01,             # synaptic weight\n",
    "        # 'delay': 5,                 # transmission delay (ms)\n",
    "        # 'synMech': 'exc'\n",
    "        }           # synaptic mechanism\n",
    "\n",
    "\n",
    "# Pv ->\n",
    "\n",
    "netParams.connParams['PV->PYR'] = { #   label\n",
    "        'preConds': {'pop': 'PV'},   # conditions of presyn cells\n",
    "        'postConds': {'pop': 'PYR'},  # conditions of postsyn cells\n",
    "        'probability': 0.094,         # probability of connection\n",
    "        # 'weight': 0.01,             # synaptic weight\n",
    "        # 'delay': 5,                 # transmission delay (ms)\n",
    "        # 'synMech': 'exc'\n",
    "        }           # synaptic mechanism\n",
    "\n",
    "\n",
    "netParams.connParams['PV->VIP'] = { #   label\n",
    "        'preConds': {'pop': 'PV'},   # conditions of presyn cells\n",
    "        'postConds': {'pop': 'VIP'},  # conditions of postsyn cells\n",
    "        'probability': 0.03,         # probability of connection\n",
    "        # 'weight': 0.01,             # synaptic weight\n",
    "        # 'delay': 5,                 # transmission delay (ms)\n",
    "        # 'synMech': 'exc'\n",
    "        }           # synaptic mechanism\n",
    "\n",
    "netParams.connParams['PV->SST'] = { #   label\n",
    "        'preConds': {'pop': 'PV'},   # conditions of presyn cells\n",
    "        'postConds': {'pop': 'SST'},  # conditions of postsyn cells\n",
    "        'probability': 0.05,         # probability of connection\n",
    "        # 'weight': 0.01,             # synaptic weight\n",
    "        # 'delay': 5,                 # transmission delay (ms)\n",
    "        # 'synMech': 'exc'\n",
    "        }           # synaptic mechanism\n",
    "\n",
    "\n",
    "netParams.connParams['PV->PV'] = { #   label\n",
    "        'preConds': {'pop': 'PV'},   # conditions of presyn cells\n",
    "        'postConds': {'pop': 'PV'},  # conditions of postsyn cells\n",
    "        'probability': 0.37,         # probability of connection\n",
    "        # 'weight': 0.01,             # synaptic weight\n",
    "        # 'delay': 5,                 # transmission delay (ms)\n",
    "        # 'synMech': 'exc'\n",
    "        }           # synaptic mechanism\n",
    "\n",
    "# SST ->\n",
    "\n",
    "\n",
    "netParams.connParams['SST->PYR'] = { #   label\n",
    "        'preConds': {'pop': 'SST'},   # conditions of presyn cells\n",
    "        'postConds': {'pop': 'PYR'},  # conditions of postsyn cells\n",
    "        'probability': 0.19,         # probability of connection\n",
    "        # 'weight': 0.01,             # synaptic weight\n",
    "        # 'delay': 5,                 # transmission delay (ms)\n",
    "        # 'synMech': 'exc'\n",
    "        }           # synaptic mechanism\n",
    "\n",
    "\n",
    "netParams.connParams['SST->PV'] = { #   label\n",
    "        'preConds': {'pop': 'SST'},   # conditions of presyn cells\n",
    "        'postConds': {'pop': 'PV'},  # conditions of postsyn cells\n",
    "        'probability': 0.2,         # probability of connection\n",
    "        # 'weight': 0.01,             # synaptic weight\n",
    "        # 'delay': 5,                 # transmission delay (ms)\n",
    "        # 'synMech': 'exc'\n",
    "        }           # synaptic mechanism\n",
    "\n",
    "netParams.connParams['SST->VIP'] = { #   label\n",
    "        'preConds': {'pop': 'SST'},   # conditions of presyn cells\n",
    "        'postConds': {'pop': 'VIP'},  # conditions of postsyn cells\n",
    "        'probability': 0.06,         # probability of connection\n",
    "        # 'weight': 0.01,             # synaptic weight\n",
    "        # 'delay': 5,                 # transmission delay (ms)\n",
    "        # 'synMech': 'exc'\n",
    "        }           # synaptic mechanism\n",
    "\n",
    "netParams.connParams['SST->SST'] = { #   label\n",
    "        'preConds': {'pop': 'SST'},   # conditions of presyn cells\n",
    "        'postConds': {'pop': 'SST'},  # conditions of postsyn cells\n",
    "        'probability': 0.04,         # probability of connection\n",
    "        # 'weight': 0.01,             # synaptic weight\n",
    "        # 'delay': 5,                 # transmission delay (ms)\n",
    "        # 'synMech': 'exc'\n",
    "        }           # synaptic mechanism\n",
    "\n",
    "\n",
    "\n",
    "\n",
    "\n"
   ]
  },
  {
   "cell_type": "markdown",
   "metadata": {},
   "source": [
    "# Simulation Configuration"
   ]
  },
  {
   "cell_type": "code",
   "execution_count": 24,
   "metadata": {},
   "outputs": [],
   "source": [
    "simConfig = specs.SimConfig()\n",
    "\n",
    "\n"
   ]
  }
 ],
 "metadata": {
  "kernelspec": {
   "display_name": "neuro-env",
   "language": "python",
   "name": "neuro-env"
  },
  "language_info": {
   "codemirror_mode": {
    "name": "ipython",
    "version": 3
   },
   "file_extension": ".py",
   "mimetype": "text/x-python",
   "name": "python",
   "nbconvert_exporter": "python",
   "pygments_lexer": "ipython3",
   "version": "3.8.12"
  },
  "orig_nbformat": 4
 },
 "nbformat": 4,
 "nbformat_minor": 2
}
